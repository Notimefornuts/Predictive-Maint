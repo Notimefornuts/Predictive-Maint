{
 "cells": [
  {
   "cell_type": "code",
   "execution_count": 1,
   "metadata": {},
   "outputs": [],
   "source": [
    "import pandas as pd"
   ]
  },
  {
   "cell_type": "code",
   "execution_count": 67,
   "metadata": {},
   "outputs": [],
   "source": [
    "#set RUL as target\n",
    "def get_rul(mydata,label):\n",
    "    from sklearn import preprocessing\n",
    "    mydata=pd.merge(mydata,\n",
    "             mydata.groupby('Asset id').size().reset_index(),on='Asset id',how='left')\n",
    "    mydata['RUL']=mydata[0]-mydata['runtime']\n",
    "    y=mydata[label]\n",
    "    X=mydata.drop(columns=[0,'RUL','Asset id','runtime'])\n",
    "    return mydata,X,y"
   ]
  },
  {
   "cell_type": "code",
   "execution_count": 68,
   "metadata": {},
   "outputs": [],
   "source": [
    "# mapping RUL into 1 and 0, 1:RUL<20, 0:RUL>=20\n",
    "def get_label(mydata,label):\n",
    "    from sklearn import preprocessing\n",
    "    mydata=pd.merge(mydata,\n",
    "             mydata.groupby('Asset id').size().reset_index(),on='Asset id',how='left')\n",
    "    mydata['RUL']=mydata[0]-mydata['runtime']\n",
    "    mydata[label]=0\n",
    "    mydata.loc[mydata['RUL']<=20,label]=1\n",
    "    y=mydata[label]\n",
    "    X=mydata.drop(columns=['y',0,'RUL','Asset id','runtime'])\n",
    "    return mydata,X,y"
   ]
  },
  {
   "cell_type": "markdown",
   "metadata": {},
   "source": [
    "# Loading data"
   ]
  },
  {
   "cell_type": "code",
   "execution_count": 100,
   "metadata": {},
   "outputs": [],
   "source": [
    "training_set=pd.read_csv('../data/PM_train.csv')\n",
    "testing_set=pd.read_csv('../data/PM_test.csv')"
   ]
  },
  {
   "cell_type": "markdown",
   "metadata": {},
   "source": [
    "###  Calculate RUL and set RUL as target"
   ]
  },
  {
   "cell_type": "code",
   "execution_count": 101,
   "metadata": {},
   "outputs": [],
   "source": [
    "train_all,X_train,y_train=get_rul(training_set,'RUL')\n",
    "test_all,X_test,y_test=get_rul(testing_set,'RUL')"
   ]
  },
  {
   "cell_type": "markdown",
   "metadata": {},
   "source": [
    "### Mapping RUL to binary data, predict whether it will fail within 20 round"
   ]
  },
  {
   "cell_type": "code",
   "execution_count": 102,
   "metadata": {},
   "outputs": [],
   "source": [
    "train_all,X_train,y_train=get_label(training_set,'y')\n",
    "test_all,X_test,y_test=get_label(testing_set,'y')"
   ]
  },
  {
   "cell_type": "markdown",
   "metadata": {},
   "source": [
    "# Data Exploration"
   ]
  },
  {
   "cell_type": "code",
   "execution_count": 8,
   "metadata": {
    "scrolled": true
   },
   "outputs": [
    {
     "data": {
      "text/plain": [
       "array([<matplotlib.axes._subplots.AxesSubplot object at 0x7f2984ac32e8>,\n",
       "       <matplotlib.axes._subplots.AxesSubplot object at 0x7f2984abbb38>,\n",
       "       <matplotlib.axes._subplots.AxesSubplot object at 0x7f2984a73f28>,\n",
       "       <matplotlib.axes._subplots.AxesSubplot object at 0x7f2984a2f3c8>,\n",
       "       <matplotlib.axes._subplots.AxesSubplot object at 0x7f29849e0828>,\n",
       "       <matplotlib.axes._subplots.AxesSubplot object at 0x7f2984992c88>,\n",
       "       <matplotlib.axes._subplots.AxesSubplot object at 0x7f2984952128>,\n",
       "       <matplotlib.axes._subplots.AxesSubplot object at 0x7f29849045c0>,\n",
       "       <matplotlib.axes._subplots.AxesSubplot object at 0x7f29849045f8>,\n",
       "       <matplotlib.axes._subplots.AxesSubplot object at 0x7f29848e7e48>,\n",
       "       <matplotlib.axes._subplots.AxesSubplot object at 0x7f29848a32e8>,\n",
       "       <matplotlib.axes._subplots.AxesSubplot object at 0x7f2984854748>,\n",
       "       <matplotlib.axes._subplots.AxesSubplot object at 0x7f2984806ba8>,\n",
       "       <matplotlib.axes._subplots.AxesSubplot object at 0x7f29847c7048>,\n",
       "       <matplotlib.axes._subplots.AxesSubplot object at 0x7f29847f64a8>,\n",
       "       <matplotlib.axes._subplots.AxesSubplot object at 0x7f29847a8908>,\n",
       "       <matplotlib.axes._subplots.AxesSubplot object at 0x7f2984759d68>,\n",
       "       <matplotlib.axes._subplots.AxesSubplot object at 0x7f2984718208>,\n",
       "       <matplotlib.axes._subplots.AxesSubplot object at 0x7f29846c8668>,\n",
       "       <matplotlib.axes._subplots.AxesSubplot object at 0x7f29846fdac8>,\n",
       "       <matplotlib.axes._subplots.AxesSubplot object at 0x7f29846adf28>,\n",
       "       <matplotlib.axes._subplots.AxesSubplot object at 0x7f298466b3c8>,\n",
       "       <matplotlib.axes._subplots.AxesSubplot object at 0x7f298461c828>,\n",
       "       <matplotlib.axes._subplots.AxesSubplot object at 0x7f29845cec88>,\n",
       "       <matplotlib.axes._subplots.AxesSubplot object at 0x7f298458a128>,\n",
       "       <matplotlib.axes._subplots.AxesSubplot object at 0x7f29845be588>,\n",
       "       <matplotlib.axes._subplots.AxesSubplot object at 0x7f298456f9e8>],\n",
       "      dtype=object)"
      ]
     },
     "execution_count": 8,
     "metadata": {},
     "output_type": "execute_result"
    }
   ],
   "source": [
    "### plotting sensor data for engine ID\n",
    "engine_id = train_all[train_all['Asset id'] == 1]\n",
    "engine_id[train_all.columns[2:]].plot(subplots=True\n",
    "                                      , sharex=True\n",
    "                                      , figsize=(20,30)\n",
    "                                     )"
   ]
  },
  {
   "cell_type": "code",
   "execution_count": 9,
   "metadata": {},
   "outputs": [
    {
     "data": {
      "text/html": [
       "<div>\n",
       "<style scoped>\n",
       "    .dataframe tbody tr th:only-of-type {\n",
       "        vertical-align: middle;\n",
       "    }\n",
       "\n",
       "    .dataframe tbody tr th {\n",
       "        vertical-align: top;\n",
       "    }\n",
       "\n",
       "    .dataframe thead th {\n",
       "        text-align: right;\n",
       "    }\n",
       "</style>\n",
       "<table border=\"1\" class=\"dataframe\">\n",
       "  <thead>\n",
       "    <tr style=\"text-align: right;\">\n",
       "      <th></th>\n",
       "      <th>Setting1</th>\n",
       "      <th>Setting2</th>\n",
       "      <th>Setting3</th>\n",
       "      <th>Tag1</th>\n",
       "      <th>Tag2</th>\n",
       "      <th>Tag3</th>\n",
       "      <th>Tag4</th>\n",
       "      <th>Tag5</th>\n",
       "      <th>Tag6</th>\n",
       "      <th>Tag7</th>\n",
       "      <th>...</th>\n",
       "      <th>Tag12</th>\n",
       "      <th>Tag13</th>\n",
       "      <th>Tag14</th>\n",
       "      <th>Tag15</th>\n",
       "      <th>Tag16</th>\n",
       "      <th>Tag17</th>\n",
       "      <th>Tag18</th>\n",
       "      <th>Tag19</th>\n",
       "      <th>Tag20</th>\n",
       "      <th>Tag21</th>\n",
       "    </tr>\n",
       "  </thead>\n",
       "  <tbody>\n",
       "    <tr>\n",
       "      <td>count</td>\n",
       "      <td>20631.000000</td>\n",
       "      <td>20631.000000</td>\n",
       "      <td>20631.0</td>\n",
       "      <td>2.063100e+04</td>\n",
       "      <td>20631.000000</td>\n",
       "      <td>20631.000000</td>\n",
       "      <td>20631.000000</td>\n",
       "      <td>2.063100e+04</td>\n",
       "      <td>20631.000000</td>\n",
       "      <td>20631.000000</td>\n",
       "      <td>...</td>\n",
       "      <td>20631.000000</td>\n",
       "      <td>20631.000000</td>\n",
       "      <td>20631.000000</td>\n",
       "      <td>20631.000000</td>\n",
       "      <td>2.063100e+04</td>\n",
       "      <td>20631.000000</td>\n",
       "      <td>20631.0</td>\n",
       "      <td>20631.0</td>\n",
       "      <td>20631.000000</td>\n",
       "      <td>20631.000000</td>\n",
       "    </tr>\n",
       "    <tr>\n",
       "      <td>mean</td>\n",
       "      <td>-0.000009</td>\n",
       "      <td>0.000002</td>\n",
       "      <td>100.0</td>\n",
       "      <td>5.186700e+02</td>\n",
       "      <td>642.680934</td>\n",
       "      <td>1590.523119</td>\n",
       "      <td>1408.933782</td>\n",
       "      <td>1.462000e+01</td>\n",
       "      <td>21.609803</td>\n",
       "      <td>553.367711</td>\n",
       "      <td>...</td>\n",
       "      <td>521.413470</td>\n",
       "      <td>2388.096152</td>\n",
       "      <td>8143.752722</td>\n",
       "      <td>8.442146</td>\n",
       "      <td>3.000000e-02</td>\n",
       "      <td>393.210654</td>\n",
       "      <td>2388.0</td>\n",
       "      <td>100.0</td>\n",
       "      <td>38.816271</td>\n",
       "      <td>23.289705</td>\n",
       "    </tr>\n",
       "    <tr>\n",
       "      <td>std</td>\n",
       "      <td>0.002187</td>\n",
       "      <td>0.000293</td>\n",
       "      <td>0.0</td>\n",
       "      <td>6.537152e-11</td>\n",
       "      <td>0.500053</td>\n",
       "      <td>6.131150</td>\n",
       "      <td>9.000605</td>\n",
       "      <td>3.394700e-12</td>\n",
       "      <td>0.001389</td>\n",
       "      <td>0.885092</td>\n",
       "      <td>...</td>\n",
       "      <td>0.737553</td>\n",
       "      <td>0.071919</td>\n",
       "      <td>19.076176</td>\n",
       "      <td>0.037505</td>\n",
       "      <td>1.556432e-14</td>\n",
       "      <td>1.548763</td>\n",
       "      <td>0.0</td>\n",
       "      <td>0.0</td>\n",
       "      <td>0.180746</td>\n",
       "      <td>0.108251</td>\n",
       "    </tr>\n",
       "    <tr>\n",
       "      <td>min</td>\n",
       "      <td>-0.008700</td>\n",
       "      <td>-0.000600</td>\n",
       "      <td>100.0</td>\n",
       "      <td>5.186700e+02</td>\n",
       "      <td>641.210000</td>\n",
       "      <td>1571.040000</td>\n",
       "      <td>1382.250000</td>\n",
       "      <td>1.462000e+01</td>\n",
       "      <td>21.600000</td>\n",
       "      <td>549.850000</td>\n",
       "      <td>...</td>\n",
       "      <td>518.690000</td>\n",
       "      <td>2387.880000</td>\n",
       "      <td>8099.940000</td>\n",
       "      <td>8.324900</td>\n",
       "      <td>3.000000e-02</td>\n",
       "      <td>388.000000</td>\n",
       "      <td>2388.0</td>\n",
       "      <td>100.0</td>\n",
       "      <td>38.140000</td>\n",
       "      <td>22.894200</td>\n",
       "    </tr>\n",
       "    <tr>\n",
       "      <td>25%</td>\n",
       "      <td>-0.001500</td>\n",
       "      <td>-0.000200</td>\n",
       "      <td>100.0</td>\n",
       "      <td>5.186700e+02</td>\n",
       "      <td>642.325000</td>\n",
       "      <td>1586.260000</td>\n",
       "      <td>1402.360000</td>\n",
       "      <td>1.462000e+01</td>\n",
       "      <td>21.610000</td>\n",
       "      <td>552.810000</td>\n",
       "      <td>...</td>\n",
       "      <td>520.960000</td>\n",
       "      <td>2388.040000</td>\n",
       "      <td>8133.245000</td>\n",
       "      <td>8.414900</td>\n",
       "      <td>3.000000e-02</td>\n",
       "      <td>392.000000</td>\n",
       "      <td>2388.0</td>\n",
       "      <td>100.0</td>\n",
       "      <td>38.700000</td>\n",
       "      <td>23.221800</td>\n",
       "    </tr>\n",
       "    <tr>\n",
       "      <td>50%</td>\n",
       "      <td>0.000000</td>\n",
       "      <td>0.000000</td>\n",
       "      <td>100.0</td>\n",
       "      <td>5.186700e+02</td>\n",
       "      <td>642.640000</td>\n",
       "      <td>1590.100000</td>\n",
       "      <td>1408.040000</td>\n",
       "      <td>1.462000e+01</td>\n",
       "      <td>21.610000</td>\n",
       "      <td>553.440000</td>\n",
       "      <td>...</td>\n",
       "      <td>521.480000</td>\n",
       "      <td>2388.090000</td>\n",
       "      <td>8140.540000</td>\n",
       "      <td>8.438900</td>\n",
       "      <td>3.000000e-02</td>\n",
       "      <td>393.000000</td>\n",
       "      <td>2388.0</td>\n",
       "      <td>100.0</td>\n",
       "      <td>38.830000</td>\n",
       "      <td>23.297900</td>\n",
       "    </tr>\n",
       "    <tr>\n",
       "      <td>75%</td>\n",
       "      <td>0.001500</td>\n",
       "      <td>0.000300</td>\n",
       "      <td>100.0</td>\n",
       "      <td>5.186700e+02</td>\n",
       "      <td>643.000000</td>\n",
       "      <td>1594.380000</td>\n",
       "      <td>1414.555000</td>\n",
       "      <td>1.462000e+01</td>\n",
       "      <td>21.610000</td>\n",
       "      <td>554.010000</td>\n",
       "      <td>...</td>\n",
       "      <td>521.950000</td>\n",
       "      <td>2388.140000</td>\n",
       "      <td>8148.310000</td>\n",
       "      <td>8.465600</td>\n",
       "      <td>3.000000e-02</td>\n",
       "      <td>394.000000</td>\n",
       "      <td>2388.0</td>\n",
       "      <td>100.0</td>\n",
       "      <td>38.950000</td>\n",
       "      <td>23.366800</td>\n",
       "    </tr>\n",
       "    <tr>\n",
       "      <td>max</td>\n",
       "      <td>0.008700</td>\n",
       "      <td>0.000600</td>\n",
       "      <td>100.0</td>\n",
       "      <td>5.186700e+02</td>\n",
       "      <td>644.530000</td>\n",
       "      <td>1616.910000</td>\n",
       "      <td>1441.490000</td>\n",
       "      <td>1.462000e+01</td>\n",
       "      <td>21.610000</td>\n",
       "      <td>556.060000</td>\n",
       "      <td>...</td>\n",
       "      <td>523.380000</td>\n",
       "      <td>2388.560000</td>\n",
       "      <td>8293.720000</td>\n",
       "      <td>8.584800</td>\n",
       "      <td>3.000000e-02</td>\n",
       "      <td>400.000000</td>\n",
       "      <td>2388.0</td>\n",
       "      <td>100.0</td>\n",
       "      <td>39.430000</td>\n",
       "      <td>23.618400</td>\n",
       "    </tr>\n",
       "  </tbody>\n",
       "</table>\n",
       "<p>8 rows × 24 columns</p>\n",
       "</div>"
      ],
      "text/plain": [
       "           Setting1      Setting2  Setting3          Tag1          Tag2  \\\n",
       "count  20631.000000  20631.000000   20631.0  2.063100e+04  20631.000000   \n",
       "mean      -0.000009      0.000002     100.0  5.186700e+02    642.680934   \n",
       "std        0.002187      0.000293       0.0  6.537152e-11      0.500053   \n",
       "min       -0.008700     -0.000600     100.0  5.186700e+02    641.210000   \n",
       "25%       -0.001500     -0.000200     100.0  5.186700e+02    642.325000   \n",
       "50%        0.000000      0.000000     100.0  5.186700e+02    642.640000   \n",
       "75%        0.001500      0.000300     100.0  5.186700e+02    643.000000   \n",
       "max        0.008700      0.000600     100.0  5.186700e+02    644.530000   \n",
       "\n",
       "               Tag3          Tag4          Tag5          Tag6          Tag7  \\\n",
       "count  20631.000000  20631.000000  2.063100e+04  20631.000000  20631.000000   \n",
       "mean    1590.523119   1408.933782  1.462000e+01     21.609803    553.367711   \n",
       "std        6.131150      9.000605  3.394700e-12      0.001389      0.885092   \n",
       "min     1571.040000   1382.250000  1.462000e+01     21.600000    549.850000   \n",
       "25%     1586.260000   1402.360000  1.462000e+01     21.610000    552.810000   \n",
       "50%     1590.100000   1408.040000  1.462000e+01     21.610000    553.440000   \n",
       "75%     1594.380000   1414.555000  1.462000e+01     21.610000    554.010000   \n",
       "max     1616.910000   1441.490000  1.462000e+01     21.610000    556.060000   \n",
       "\n",
       "       ...         Tag12         Tag13         Tag14         Tag15  \\\n",
       "count  ...  20631.000000  20631.000000  20631.000000  20631.000000   \n",
       "mean   ...    521.413470   2388.096152   8143.752722      8.442146   \n",
       "std    ...      0.737553      0.071919     19.076176      0.037505   \n",
       "min    ...    518.690000   2387.880000   8099.940000      8.324900   \n",
       "25%    ...    520.960000   2388.040000   8133.245000      8.414900   \n",
       "50%    ...    521.480000   2388.090000   8140.540000      8.438900   \n",
       "75%    ...    521.950000   2388.140000   8148.310000      8.465600   \n",
       "max    ...    523.380000   2388.560000   8293.720000      8.584800   \n",
       "\n",
       "              Tag16         Tag17    Tag18    Tag19         Tag20  \\\n",
       "count  2.063100e+04  20631.000000  20631.0  20631.0  20631.000000   \n",
       "mean   3.000000e-02    393.210654   2388.0    100.0     38.816271   \n",
       "std    1.556432e-14      1.548763      0.0      0.0      0.180746   \n",
       "min    3.000000e-02    388.000000   2388.0    100.0     38.140000   \n",
       "25%    3.000000e-02    392.000000   2388.0    100.0     38.700000   \n",
       "50%    3.000000e-02    393.000000   2388.0    100.0     38.830000   \n",
       "75%    3.000000e-02    394.000000   2388.0    100.0     38.950000   \n",
       "max    3.000000e-02    400.000000   2388.0    100.0     39.430000   \n",
       "\n",
       "              Tag21  \n",
       "count  20631.000000  \n",
       "mean      23.289705  \n",
       "std        0.108251  \n",
       "min       22.894200  \n",
       "25%       23.221800  \n",
       "50%       23.297900  \n",
       "75%       23.366800  \n",
       "max       23.618400  \n",
       "\n",
       "[8 rows x 24 columns]"
      ]
     },
     "execution_count": 9,
     "metadata": {},
     "output_type": "execute_result"
    }
   ],
   "source": [
    "X_train.describe()"
   ]
  },
  {
   "cell_type": "code",
   "execution_count": 140,
   "metadata": {},
   "outputs": [
    {
     "data": {
      "image/png": "[encoded data removed]",
      "text/plain": [
       "<Figure size 432x288 with 1 Axes>"
      ]
     },
     "metadata": {
      "needs_background": "light"
     },
     "output_type": "display_data"
    }
   ],
   "source": [
    "#RUL distribution\n",
    "sns.distplot(train_all['RUL']);"
   ]
  },
  {
   "cell_type": "code",
   "execution_count": 47,
   "metadata": {
    "scrolled": true
   },
   "outputs": [
    {
     "data": {
      "text/plain": [
       "<matplotlib.axes._subplots.AxesSubplot at 0x7f8fe40069b0>"
      ]
     },
     "execution_count": 47,
     "metadata": {},
     "output_type": "execute_result"
    },
    {
     "data": {
      "image/png": "[encoded data removed]",
      "text/plain": [
       "<Figure size 1080x1080 with 2 Axes>"
      ]
     },
     "metadata": {
      "needs_background": "light"
     },
     "output_type": "display_data"
    }
   ],
   "source": [
    "import seaborn as sns\n",
    "df_corr=train_all[['Setting1', 'Setting2', 'Tag2', 'Tag3', 'Tag4', 'Tag6', 'Tag7', 'Tag8',\n",
    "       'Tag9', 'Tag11', 'Tag12', 'Tag13', 'Tag14', 'Tag15', 'Tag17', 'Tag20',\n",
    "       'Tag21','RUL']].corr(method='pearson')\n",
    "fig, ax = plt.subplots(figsize=(15,15))\n",
    "sns.heatmap(df_corr, linewidths=.2, annot=True)"
   ]
  },
  {
   "cell_type": "code",
   "execution_count": 173,
   "metadata": {
    "scrolled": true
   },
   "outputs": [
    {
     "data": {
      "text/plain": [
       "count     66.000000\n",
       "mean     212.075758\n",
       "std       52.114758\n",
       "min      128.000000\n",
       "25%      175.000000\n",
       "50%      200.500000\n",
       "75%      238.500000\n",
       "max      362.000000\n",
       "Name: 0, dtype: float64"
      ]
     },
     "execution_count": 173,
     "metadata": {},
     "output_type": "execute_result"
    }
   ],
   "source": [
    "train_all[0].drop_duplicates().describe()"
   ]
  },
  {
   "cell_type": "code",
   "execution_count": 174,
   "metadata": {},
   "outputs": [
    {
     "data": {
      "text/plain": [
       "count     80.000000\n",
       "mean     133.000000\n",
       "std       56.650829\n",
       "min       31.000000\n",
       "25%       88.750000\n",
       "50%      136.500000\n",
       "75%      168.750000\n",
       "max      303.000000\n",
       "Name: 0, dtype: float64"
      ]
     },
     "execution_count": 174,
     "metadata": {},
     "output_type": "execute_result"
    }
   ],
   "source": [
    "test_all[0].drop_duplicates().describe()"
   ]
  },
  {
   "cell_type": "markdown",
   "metadata": {},
   "source": [
    "# Data Modeling"
   ]
  },
  {
   "cell_type": "markdown",
   "metadata": {},
   "source": [
    "# 1. Binary Prediction. Use Random Forest Classifier to predict 0,1 label"
   ]
  },
  {
   "cell_type": "code",
   "execution_count": 27,
   "metadata": {},
   "outputs": [],
   "source": [
    "%matplotlib inline\n",
    "import matplotlib.pyplot as plt\n",
    "from sklearn.tree import DecisionTreeClassifier\n",
    "from sklearn.ensemble import RandomForestClassifier\n",
    "from sklearn.datasets import load_wine\n",
    "from sklearn.model_selection import cross_val_score\n",
    "from sklearn.metrics import r2_score,f1_score"
   ]
  },
  {
   "cell_type": "code",
   "execution_count": 120,
   "metadata": {},
   "outputs": [],
   "source": [
    "def get_label_2(mydata,label):\n",
    "    from sklearn import preprocessing\n",
    "    mydata=pd.merge(mydata,\n",
    "             mydata.groupby('Asset id').size().reset_index(),on='Asset id',how='left')\n",
    "    mydata['RUL']=mydata[0]-mydata['runtime']\n",
    "    mydata[label]=0\n",
    "    mydata.loc[mydata['RUL']<=20,label]=1\n",
    "    y=mydata[label]\n",
    "    cols_normalize = mydata.columns.difference(['Asset id','runtime','RUL','y'])\n",
    "    norm_mydata = pd.DataFrame(preprocessing.MinMaxScaler().fit_transform(mydata[cols_normalize]), \n",
    "                                columns=cols_normalize, \n",
    "                                index=mydata.index)\n",
    "    data_all = mydata[mydata.columns.difference(cols_normalize)].join(norm_mydata)\n",
    "    mydata = data_all.reindex(columns = mydata.columns)\n",
    "    mydata = mydata.reset_index(drop=True)\n",
    "    X=mydata.drop(columns=['y',0,'RUL','Asset id','runtime'])\n",
    "\n",
    "    return mydata,X,y\n",
    "\n",
    "train_all,X_train,y_train=get_label_2(training_set,'y')\n",
    "test_all,X_test,y_test=get_label_2(testing_set,'y')"
   ]
  },
  {
   "cell_type": "code",
   "execution_count": 121,
   "metadata": {},
   "outputs": [],
   "source": [
    "#drop columns with 0 variance\n",
    "constant_column=X_train.columns[X_train.nunique() <= 1].to_list()\n",
    "X_train.drop(columns=constant_column,inplace=True)\n",
    "X_test.drop(columns=constant_column,inplace=True)"
   ]
  },
  {
   "cell_type": "markdown",
   "metadata": {},
   "source": [
    "1. find the best # of estimators"
   ]
  },
  {
   "cell_type": "code",
   "execution_count": 122,
   "metadata": {},
   "outputs": [
    {
     "name": "stdout",
     "output_type": "stream",
     "text": [
      "0.971935297808941 91\n"
     ]
    },
    {
     "data": {
      "text/plain": [
       "<Figure size 1440x360 with 0 Axes>"
      ]
     },
     "execution_count": 122,
     "metadata": {},
     "output_type": "execute_result"
    },
    {
     "data": {
      "text/plain": [
       "<Figure size 1440x360 with 0 Axes>"
      ]
     },
     "metadata": {},
     "output_type": "display_data"
    }
   ],
   "source": [
    "scorel = []\n",
    "for i in range(1,100,10):\n",
    "    rfc = RandomForestClassifier(n_estimators=i+1,\n",
    "                                # n_jobs=-1,\n",
    "                                 random_state=90)\n",
    "    score = cross_val_score(rfc,X_train,y_train,cv=10).mean()\n",
    "    scorel.append(score)\n",
    "print(max(scorel),(scorel.index(max(scorel))*10)+1)\n",
    "plt.figure(figsize=[20,5])"
   ]
  },
  {
   "cell_type": "code",
   "execution_count": 123,
   "metadata": {},
   "outputs": [
    {
     "data": {
      "image/png": "[encoded data removed]",
      "text/plain": [
       "<Figure size 432x288 with 1 Axes>"
      ]
     },
     "metadata": {
      "needs_background": "light"
     },
     "output_type": "display_data"
    }
   ],
   "source": [
    "plt.plot(range(1,101,10),scorel)\n",
    "plt.show()"
   ]
  },
  {
   "cell_type": "markdown",
   "metadata": {},
   "source": [
    "2. use grid search to find the best max depth"
   ]
  },
  {
   "cell_type": "code",
   "execution_count": 133,
   "metadata": {},
   "outputs": [
    {
     "data": {
      "text/plain": [
       "{'max_depth': 4}"
      ]
     },
     "execution_count": 133,
     "metadata": {},
     "output_type": "execute_result"
    }
   ],
   "source": [
    "# use Grid Search\n",
    "from sklearn.model_selection import GridSearchCV\n",
    "param_grid = {'max_depth':np.arange(1, 5, 1)}\n",
    "rfc = RandomForestClassifier(n_estimators=39\n",
    "                             ,random_state=1234\n",
    "                            )\n",
    "GS = GridSearchCV(rfc,param_grid,scoring='f1',cv=10)\n",
    "GS.fit(X_train,y_train)\n",
    " \n",
    "GS.best_params_"
   ]
  },
  {
   "cell_type": "code",
   "execution_count": 134,
   "metadata": {
    "scrolled": true
   },
   "outputs": [
    {
     "name": "stdout",
     "output_type": "stream",
     "text": [
      "F1 SCORE IS: 0.8511497731653093\n"
     ]
    }
   ],
   "source": [
    " print('F1 SCORE IS:', GS.best_score_)"
   ]
  },
  {
   "cell_type": "code",
   "execution_count": 138,
   "metadata": {
    "scrolled": false
   },
   "outputs": [],
   "source": [
    "ypreds=rfc.predict(X_test)"
   ]
  },
  {
   "cell_type": "code",
   "execution_count": 139,
   "metadata": {
    "scrolled": true
   },
   "outputs": [
    {
     "name": "stdout",
     "output_type": "stream",
     "text": [
      "f1 score score is 0.308095952023988\n"
     ]
    }
   ],
   "source": [
    "print('f1 score score is',f1_score(y_test,ypreds))"
   ]
  },
  {
   "cell_type": "markdown",
   "metadata": {},
   "source": [
    "# 2. Binary prediction: Use LSTM to predict 1,0 label"
   ]
  },
  {
   "cell_type": "code",
   "execution_count": 106,
   "metadata": {
    "scrolled": true
   },
   "outputs": [
    {
     "name": "stdout",
     "output_type": "stream",
     "text": [
      "Model: \"sequential_5\"\n",
      "_________________________________________________________________\n",
      "Layer (type)                 Output Shape              Param #   \n",
      "=================================================================\n",
      "lstm_10 (LSTM)               (None, 50, 100)           50400     \n",
      "_________________________________________________________________\n",
      "dropout_10 (Dropout)         (None, 50, 100)           0         \n",
      "_________________________________________________________________\n",
      "lstm_11 (LSTM)               (None, 50)                30200     \n",
      "_________________________________________________________________\n",
      "dropout_11 (Dropout)         (None, 50)                0         \n",
      "_________________________________________________________________\n",
      "dense_5 (Dense)              (None, 1)                 51        \n",
      "=================================================================\n",
      "Total params: 80,651\n",
      "Trainable params: 80,651\n",
      "Non-trainable params: 0\n",
      "_________________________________________________________________\n",
      "None\n",
      "Epoch 1/100\n",
      "75/75 - 9s - loss: 0.3408 - accuracy: 0.8500 - val_loss: 0.3056 - val_accuracy: 0.8657\n",
      "Epoch 2/100\n",
      "75/75 - 8s - loss: 0.2821 - accuracy: 0.8652 - val_loss: 0.3123 - val_accuracy: 0.8657\n",
      "Epoch 3/100\n",
      "75/75 - 8s - loss: 0.2522 - accuracy: 0.8760 - val_loss: 0.2487 - val_accuracy: 0.8772\n",
      "Epoch 4/100\n",
      "75/75 - 8s - loss: 0.1851 - accuracy: 0.9170 - val_loss: 0.1348 - val_accuracy: 0.9450\n",
      "Epoch 5/100\n",
      "75/75 - 8s - loss: 0.1415 - accuracy: 0.9409 - val_loss: 0.0931 - val_accuracy: 0.9552\n",
      "Epoch 6/100\n",
      "75/75 - 8s - loss: 0.1315 - accuracy: 0.9437 - val_loss: 0.1407 - val_accuracy: 0.9450\n",
      "Epoch 7/100\n",
      "75/75 - 8s - loss: 0.1201 - accuracy: 0.9483 - val_loss: 0.0770 - val_accuracy: 0.9706\n",
      "Epoch 8/100\n",
      "75/75 - 8s - loss: 0.0868 - accuracy: 0.9655 - val_loss: 0.0517 - val_accuracy: 0.9783\n",
      "Epoch 9/100\n",
      "75/75 - 8s - loss: 0.0849 - accuracy: 0.9659 - val_loss: 0.0649 - val_accuracy: 0.9693\n",
      "Epoch 10/100\n",
      "75/75 - 8s - loss: 0.0901 - accuracy: 0.9627 - val_loss: 0.0785 - val_accuracy: 0.9680\n",
      "Epoch 11/100\n",
      "75/75 - 8s - loss: 0.0711 - accuracy: 0.9713 - val_loss: 0.0826 - val_accuracy: 0.9604\n",
      "Epoch 12/100\n",
      "75/75 - 9s - loss: 0.0728 - accuracy: 0.9692 - val_loss: 0.0505 - val_accuracy: 0.9821\n",
      "Epoch 13/100\n",
      "75/75 - 8s - loss: 0.0695 - accuracy: 0.9704 - val_loss: 0.0600 - val_accuracy: 0.9770\n",
      "Epoch 14/100\n",
      "75/75 - 8s - loss: 0.0646 - accuracy: 0.9728 - val_loss: 0.0669 - val_accuracy: 0.9680\n",
      "Epoch 15/100\n",
      "75/75 - 9s - loss: 0.0797 - accuracy: 0.9662 - val_loss: 0.0868 - val_accuracy: 0.9642\n",
      "Epoch 16/100\n",
      "75/75 - 9s - loss: 0.0611 - accuracy: 0.9728 - val_loss: 0.0515 - val_accuracy: 0.9757\n",
      "Epoch 17/100\n",
      "75/75 - 8s - loss: 0.0610 - accuracy: 0.9737 - val_loss: 0.0437 - val_accuracy: 0.9834\n",
      "Epoch 18/100\n",
      "75/75 - 8s - loss: 0.0642 - accuracy: 0.9726 - val_loss: 0.0980 - val_accuracy: 0.9476\n",
      "Epoch 19/100\n",
      "75/75 - 8s - loss: 0.0659 - accuracy: 0.9718 - val_loss: 0.0479 - val_accuracy: 0.9808\n",
      "Epoch 20/100\n",
      "75/75 - 8s - loss: 0.0524 - accuracy: 0.9776 - val_loss: 0.0523 - val_accuracy: 0.9744\n",
      "Epoch 21/100\n",
      "75/75 - 9s - loss: 0.0508 - accuracy: 0.9792 - val_loss: 0.0417 - val_accuracy: 0.9847\n",
      "Epoch 22/100\n",
      "75/75 - 8s - loss: 0.0596 - accuracy: 0.9735 - val_loss: 0.0609 - val_accuracy: 0.9719\n",
      "Epoch 23/100\n",
      "75/75 - 9s - loss: 0.0530 - accuracy: 0.9774 - val_loss: 0.0375 - val_accuracy: 0.9859\n",
      "Epoch 24/100\n",
      "75/75 - 8s - loss: 0.0601 - accuracy: 0.9747 - val_loss: 0.0445 - val_accuracy: 0.9834\n",
      "Epoch 25/100\n",
      "75/75 - 8s - loss: 0.0513 - accuracy: 0.9781 - val_loss: 0.0477 - val_accuracy: 0.9847\n",
      "Epoch 26/100\n",
      "75/75 - 9s - loss: 0.0471 - accuracy: 0.9796 - val_loss: 0.1457 - val_accuracy: 0.9463\n",
      "Epoch 27/100\n",
      "75/75 - 8s - loss: 0.0655 - accuracy: 0.9724 - val_loss: 0.0441 - val_accuracy: 0.9808\n",
      "Epoch 28/100\n",
      "75/75 - 8s - loss: 0.0504 - accuracy: 0.9784 - val_loss: 0.0451 - val_accuracy: 0.9834\n",
      "Epoch 29/100\n",
      "75/75 - 8s - loss: 0.0453 - accuracy: 0.9815 - val_loss: 0.0579 - val_accuracy: 0.9744\n",
      "Epoch 30/100\n",
      "75/75 - 8s - loss: 0.0509 - accuracy: 0.9781 - val_loss: 0.0520 - val_accuracy: 0.9808\n",
      "Epoch 31/100\n",
      "75/75 - 11s - loss: 0.0484 - accuracy: 0.9793 - val_loss: 0.0460 - val_accuracy: 0.9834\n",
      "Epoch 32/100\n",
      "75/75 - 9s - loss: 0.0542 - accuracy: 0.9775 - val_loss: 0.0639 - val_accuracy: 0.9719\n",
      "Epoch 33/100\n",
      "75/75 - 8s - loss: 0.0475 - accuracy: 0.9799 - val_loss: 0.0633 - val_accuracy: 0.9693\n",
      "dict_keys(['loss', 'accuracy', 'val_loss', 'val_accuracy'])\n"
     ]
    }
   ],
   "source": [
    "np.random.seed(1234)  \n",
    "PYTHONHASHSEED = 0\n",
    "import keras\n",
    "from sklearn import preprocessing\n",
    "from sklearn.metrics import confusion_matrix, recall_score, precision_score\n",
    "from keras.models import Sequential,load_model\n",
    "from keras.layers import Dense, Dropout, LSTM\n",
    "model_path = 'binary_model.h5'\n",
    "\n",
    "# window size setting\n",
    "sequence_length = 50\n",
    "\n",
    "# mapping RUL into 1 and 0, 1:RUL<20, 0:RUL>=20\n",
    "def get_label_2(mydata,label):\n",
    "    from sklearn import preprocessing\n",
    "    mydata=pd.merge(mydata,\n",
    "             mydata.groupby('Asset id').size().reset_index(),on='Asset id',how='left')\n",
    "    mydata['RUL']=mydata[0]-mydata['runtime']\n",
    "    mydata[label]=0\n",
    "    mydata.loc[mydata['RUL']<=20,label]=1\n",
    "    y=mydata[label]\n",
    "    cols_normalize = mydata.columns.difference(['Asset id','runtime','RUL','y'])\n",
    "    norm_mydata = pd.DataFrame(preprocessing.MinMaxScaler().fit_transform(mydata[cols_normalize]), \n",
    "                                columns=cols_normalize, \n",
    "                                index=mydata.index)\n",
    "    data_all = mydata[mydata.columns.difference(cols_normalize)].join(norm_mydata)\n",
    "    mydata = data_all.reindex(columns = mydata.columns)\n",
    "    mydata = mydata.reset_index(drop=True)\n",
    "#    X_test=mydata.drop(columns=['y','RUL','Asset id','runtime'])\n",
    "    X=mydata.drop(columns=[0,'RUL'])\n",
    "    return mydata,X,y\n",
    "\n",
    "train_all,X_train,y_train=get_label_2(training_set,'y')\n",
    "test_all,X_test,y_test=get_label_2(testing_set,'y')\n",
    "\n",
    "# reshape features into (samples, steps, features) \n",
    "def gen_sequence(id_df, seq_length, seq_cols):\n",
    "    # for one id I put all the rows in a single matrix\n",
    "    data_matrix = id_df[seq_cols].values\n",
    "    num_elements = data_matrix.shape[0]\n",
    "    # 0 50 -> from row 0 to row 50\n",
    "    # 1 51 -> from row 1 to row 51\n",
    "    # 2 52 -> from row 2 to row 52\n",
    "    # ...\n",
    "    # 111 191 -> from row 111 to 191\n",
    "    for start, stop in zip(range(0, num_elements-seq_length), range(seq_length, num_elements)):\n",
    "        yield data_matrix[start:stop, :]\n",
    "        \n",
    "# pick the feature columns \n",
    "sensor_cols = ['Tag' + str(i) for i in range(1,22)]\n",
    "sequence_cols = ['Setting1', 'Setting2', 'Setting3','runtime']\n",
    "sequence_cols.extend(sensor_cols)\n",
    "\n",
    "# generator for the sequences\n",
    "seq_gen = (list(gen_sequence(X_train[X_train['Asset id']==id], sequence_length, sequence_cols)) \n",
    "           for id in X_train['Asset id'].unique())\n",
    "\n",
    "# generate sequences and convert to numpy array\n",
    "seq_array = np.concatenate(list(seq_gen)).astype(np.float32)\n",
    "seq_array.shape\n",
    "\n",
    "#  generate labels\n",
    "def gen_labels(id_df, seq_length, label):\n",
    "    data_matrix = id_df[label].values\n",
    "    num_elements = data_matrix.shape[0]\n",
    "    return data_matrix[seq_length:num_elements, :]\n",
    "\n",
    "label_gen = [gen_labels(X_train[X_train['Asset id']==id], sequence_length, ['y']) \n",
    "             for id in X_train['Asset id'].unique()]\n",
    "label_array = np.concatenate(label_gen).astype(np.float32)\n",
    "label_array.shape\n",
    "\n",
    "# build a deep network. \n",
    "nb_features = seq_array.shape[2]\n",
    "nb_out = label_array.shape[1]\n",
    "\n",
    "model = Sequential()\n",
    "\n",
    "model.add(LSTM(\n",
    "         input_shape=(sequence_length, nb_features),\n",
    "         units=100,\n",
    "         return_sequences=True))\n",
    "model.add(Dropout(0.2))\n",
    "\n",
    "model.add(LSTM(\n",
    "          units=50,\n",
    "          return_sequences=False))\n",
    "model.add(Dropout(0.2))\n",
    "\n",
    "model.add(Dense(units=nb_out, activation='sigmoid'))\n",
    "model.compile(loss='binary_crossentropy', optimizer='adam', metrics=['accuracy'])\n",
    "\n",
    "print(model.summary())\n",
    "\n",
    "# fit the network\n",
    "history = model.fit(seq_array, label_array, epochs=100, batch_size=200, validation_split=0.05, verbose=2,\n",
    "          callbacks = [keras.callbacks.EarlyStopping(monitor='val_loss', min_delta=0, patience=10, verbose=0, mode='min'),\n",
    "                       keras.callbacks.ModelCheckpoint(model_path,monitor='val_loss', save_best_only=True, mode='min', verbose=0)]\n",
    "          )\n",
    "\n",
    "print(history.history.keys())"
   ]
  },
  {
   "cell_type": "code",
   "execution_count": 108,
   "metadata": {},
   "outputs": [
    {
     "name": "stdout",
     "output_type": "stream",
     "text": [
      "79/79 [==============================] - 4s 44ms/step\n"
     ]
    }
   ],
   "source": [
    "ypreds = model.predict_classes(seq_array,verbose=1, batch_size=200)\n",
    "y_test = label_array"
   ]
  },
  {
   "cell_type": "code",
   "execution_count": 110,
   "metadata": {
    "scrolled": true
   },
   "outputs": [
    {
     "name": "stdout",
     "output_type": "stream",
     "text": [
      "f1 score score is 0.9045643153526971\n"
     ]
    }
   ],
   "source": [
    "print('f1 score score is',f1_score(y_test,ypreds))"
   ]
  },
  {
   "cell_type": "markdown",
   "metadata": {},
   "source": [
    "# Regression: Use Xgboost regressor to predict RUL (continuous)"
   ]
  },
  {
   "cell_type": "code",
   "execution_count": null,
   "metadata": {},
   "outputs": [],
   "source": [
    "from sklearn.model_selection import train_test_split\n",
    "import matplotlib.pyplot as plt\n",
    "from time import time\n",
    "import datetime\n",
    "from sklearn.model_selection import GridSearchCV\n",
    "\n",
    "import xgboost as xgb"
   ]
  },
  {
   "cell_type": "code",
   "execution_count": 154,
   "metadata": {},
   "outputs": [],
   "source": [
    "train_all,X_train,y_train=get_rul(training_set,'RUL')\n",
    "test_all,X_test,y_test=get_rul(testing_set,'RUL')"
   ]
  },
  {
   "cell_type": "code",
   "execution_count": null,
   "metadata": {},
   "outputs": [],
   "source": [
    "X_train,X_test,y_train,y_test=train_test_split(X_train,y_train,test_size=0.2,random_state=42)"
   ]
  },
  {
   "cell_type": "code",
   "execution_count": 155,
   "metadata": {},
   "outputs": [],
   "source": [
    "df_train=xgb.DMatrix(X_train,y_train)\n",
    "df_test=xgb.DMatrix(X_test,y_test)"
   ]
  },
  {
   "cell_type": "markdown",
   "metadata": {},
   "source": [
    "### Cross Validataion (5-Fold)\n",
    "### 1. find the best # of round"
   ]
  },
  {
   "cell_type": "code",
   "execution_count": 85,
   "metadata": {},
   "outputs": [
    {
     "data": {
      "image/png": "[encoded data removed]",
      "text/plain": [
       "<Figure size 1440x360 with 1 Axes>"
      ]
     },
     "metadata": {
      "needs_background": "light"
     },
     "output_type": "display_data"
    }
   ],
   "source": [
    "param1 = {'silent':True,'obj':'reg:linear',\"gamma\":0,\"eta\":0.31,'max_depth':3}\n",
    "num_round = 100\n",
    "n_fold=5 #sklearn - KFold\n",
    "\n",
    "cvresult1 = xgb.cv(param1, df_train, num_round,n_fold)\n",
    "\n",
    "plt.figure(figsize=(20,5))\n",
    "plt.grid()\n",
    "plt.plot(range(1,num_round+1),cvresult1.iloc[:,0],c=\"red\",label=\"train,gamma=0\")\n",
    "plt.plot(range(1,num_round+1),cvresult1.iloc[:,2],c=\"orange\",label=\"test,gamma=0\")\n",
    "plt.legend()\n",
    "plt.show()"
   ]
  },
  {
   "cell_type": "markdown",
   "metadata": {},
   "source": [
    "### 2. find the best # of estimators"
   ]
  },
  {
   "cell_type": "code",
   "execution_count": 80,
   "metadata": {
    "scrolled": true
   },
   "outputs": [
    {
     "data": {
      "image/png": "[encoded data removed]",
      "text/plain": [
       "<Figure size 1440x360 with 1 Axes>"
      ]
     },
     "metadata": {
      "needs_background": "light"
     },
     "output_type": "display_data"
    }
   ],
   "source": [
    "e=[]\n",
    "evala=[]\n",
    "i=0\n",
    "eva='train'\n",
    "for  eta in [i/100.0 for i in range(10,80,10)]:\n",
    "    for max_depth in [3]:\n",
    "            param2 = {'silent':True,'obj':'reg:linear'\n",
    "                      ,\"gamma\":0\n",
    "                      ,\"eta\":eta\n",
    "                      ,'max_depth':max_depth,'booster':'dart'}\n",
    "            bst=xgb.train(param2, df_train, 50)\n",
    "            ypreds = bst.predict(df_test)\n",
    "            e.append(eta)\n",
    "            evala.append(r2_score(y_test,ypreds))\n",
    "plt.figure(figsize=[20,5])\n",
    "plt.plot(range(10,80,10),evala)\n",
    "plt.show()"
   ]
  },
  {
   "cell_type": "markdown",
   "metadata": {},
   "source": [
    "### 3.Find the best booster and max depth"
   ]
  },
  {
   "cell_type": "code",
   "execution_count": 102,
   "metadata": {
    "scrolled": true
   },
   "outputs": [
    {
     "name": "stdout",
     "output_type": "stream",
     "text": [
      "dart : max_depth 2 0.6195736638821095\n",
      "gbtree : max_depth 2 0.6195736642889005\n",
      "gblinear : max_depth 2 -0.0024991520830470737\n",
      "dart : max_depth 3 0.6250956739732001\n",
      "gbtree : max_depth 3 0.6250956739515428\n",
      "gblinear : max_depth 3 -0.0024870789882391886\n",
      "dart : max_depth 4 0.6248019341256964\n",
      "gbtree : max_depth 4 0.6248019373238367\n",
      "gblinear : max_depth 4 -0.0025008243329860402\n"
     ]
    }
   ],
   "source": [
    "max_d=[]\n",
    "i=0\n",
    "eva='train'\n",
    "\n",
    "for max_depth in [2,3,4]:\n",
    "    for booster in ['dart','gbtree','gblinear']:\n",
    "            param2 = {'silent':True,'obj':'reg:linear'\n",
    "                      ,\"gamma\":0\n",
    "                      ,\"eta\":0.2\n",
    "                      ,'max_depth':max_depth,'booster':booster}\n",
    "            bst=xgb.train(param2, df_train, 50)\n",
    "            ypreds = bst.predict(df_test)\n",
    "            max_d.append(max_depth)\n",
    "            print(booster,\":\",\"max_depth\",max_depth,r2_score(y_test,ypreds))"
   ]
  },
  {
   "cell_type": "code",
   "execution_count": 147,
   "metadata": {},
   "outputs": [],
   "source": [
    "param_final={'silent':True,'obj':'reg:linear'\n",
    "                      ,\"gamma\":0\n",
    "                      ,\"eta\":0.2\n",
    "                      ,'max_depth':3,'booster':'gbtree'}\n",
    "bst=xgb.train(param_final, df_train, 50)\n",
    "ypreds = bst.predict(df_test)"
   ]
  },
  {
   "cell_type": "code",
   "execution_count": 148,
   "metadata": {},
   "outputs": [
    {
     "data": {
      "text/html": [
       "<div>\n",
       "<style scoped>\n",
       "    .dataframe tbody tr th:only-of-type {\n",
       "        vertical-align: middle;\n",
       "    }\n",
       "\n",
       "    .dataframe tbody tr th {\n",
       "        vertical-align: top;\n",
       "    }\n",
       "\n",
       "    .dataframe thead th {\n",
       "        text-align: right;\n",
       "    }\n",
       "</style>\n",
       "<table border=\"1\" class=\"dataframe\">\n",
       "  <thead>\n",
       "    <tr style=\"text-align: right;\">\n",
       "      <th></th>\n",
       "      <th>0</th>\n",
       "      <th>1</th>\n",
       "    </tr>\n",
       "  </thead>\n",
       "  <tbody>\n",
       "    <tr>\n",
       "      <td>0</td>\n",
       "      <td>124.656189</td>\n",
       "      <td>135</td>\n",
       "    </tr>\n",
       "    <tr>\n",
       "      <td>1</td>\n",
       "      <td>10.129141</td>\n",
       "      <td>2</td>\n",
       "    </tr>\n",
       "    <tr>\n",
       "      <td>2</td>\n",
       "      <td>172.914261</td>\n",
       "      <td>217</td>\n",
       "    </tr>\n",
       "    <tr>\n",
       "      <td>3</td>\n",
       "      <td>3.416459</td>\n",
       "      <td>0</td>\n",
       "    </tr>\n",
       "    <tr>\n",
       "      <td>4</td>\n",
       "      <td>140.485764</td>\n",
       "      <td>178</td>\n",
       "    </tr>\n",
       "    <tr>\n",
       "      <td>...</td>\n",
       "      <td>...</td>\n",
       "      <td>...</td>\n",
       "    </tr>\n",
       "    <tr>\n",
       "      <td>4122</td>\n",
       "      <td>186.148605</td>\n",
       "      <td>184</td>\n",
       "    </tr>\n",
       "    <tr>\n",
       "      <td>4123</td>\n",
       "      <td>98.407219</td>\n",
       "      <td>103</td>\n",
       "    </tr>\n",
       "    <tr>\n",
       "      <td>4124</td>\n",
       "      <td>109.778809</td>\n",
       "      <td>121</td>\n",
       "    </tr>\n",
       "    <tr>\n",
       "      <td>4125</td>\n",
       "      <td>115.801743</td>\n",
       "      <td>104</td>\n",
       "    </tr>\n",
       "    <tr>\n",
       "      <td>4126</td>\n",
       "      <td>117.130470</td>\n",
       "      <td>187</td>\n",
       "    </tr>\n",
       "  </tbody>\n",
       "</table>\n",
       "<p>4127 rows × 2 columns</p>\n",
       "</div>"
      ],
      "text/plain": [
       "               0    1\n",
       "0     124.656189  135\n",
       "1      10.129141    2\n",
       "2     172.914261  217\n",
       "3       3.416459    0\n",
       "4     140.485764  178\n",
       "...          ...  ...\n",
       "4122  186.148605  184\n",
       "4123   98.407219  103\n",
       "4124  109.778809  121\n",
       "4125  115.801743  104\n",
       "4126  117.130470  187\n",
       "\n",
       "[4127 rows x 2 columns]"
      ]
     },
     "execution_count": 148,
     "metadata": {},
     "output_type": "execute_result"
    }
   ],
   "source": [
    "pd.DataFrame(zip(ypreds,y_test))"
   ]
  },
  {
   "cell_type": "code",
   "execution_count": 150,
   "metadata": {},
   "outputs": [
    {
     "name": "stdout",
     "output_type": "stream",
     "text": [
      "r2 score is 0.6250956739515428\n"
     ]
    }
   ],
   "source": [
    "print('r2 score is',r2_score(y_test,ypreds))"
   ]
  },
  {
   "cell_type": "markdown",
   "metadata": {},
   "source": [
    "# Feature importance"
   ]
  },
  {
   "cell_type": "code",
   "execution_count": 151,
   "metadata": {},
   "outputs": [
    {
     "data": {
      "text/html": [
       "<div>\n",
       "<style scoped>\n",
       "    .dataframe tbody tr th:only-of-type {\n",
       "        vertical-align: middle;\n",
       "    }\n",
       "\n",
       "    .dataframe tbody tr th {\n",
       "        vertical-align: top;\n",
       "    }\n",
       "\n",
       "    .dataframe thead th {\n",
       "        text-align: right;\n",
       "    }\n",
       "</style>\n",
       "<table border=\"1\" class=\"dataframe\">\n",
       "  <thead>\n",
       "    <tr style=\"text-align: right;\">\n",
       "      <th></th>\n",
       "      <th>variables</th>\n",
       "      <th>fscore</th>\n",
       "    </tr>\n",
       "  </thead>\n",
       "  <tbody>\n",
       "    <tr>\n",
       "      <td>5</td>\n",
       "      <td>Tag14</td>\n",
       "      <td>49</td>\n",
       "    </tr>\n",
       "    <tr>\n",
       "      <td>1</td>\n",
       "      <td>Tag9</td>\n",
       "      <td>39</td>\n",
       "    </tr>\n",
       "    <tr>\n",
       "      <td>0</td>\n",
       "      <td>Tag11</td>\n",
       "      <td>37</td>\n",
       "    </tr>\n",
       "    <tr>\n",
       "      <td>2</td>\n",
       "      <td>Tag4</td>\n",
       "      <td>27</td>\n",
       "    </tr>\n",
       "    <tr>\n",
       "      <td>3</td>\n",
       "      <td>Tag12</td>\n",
       "      <td>24</td>\n",
       "    </tr>\n",
       "    <tr>\n",
       "      <td>13</td>\n",
       "      <td>Tag13</td>\n",
       "      <td>24</td>\n",
       "    </tr>\n",
       "    <tr>\n",
       "      <td>12</td>\n",
       "      <td>Tag3</td>\n",
       "      <td>22</td>\n",
       "    </tr>\n",
       "    <tr>\n",
       "      <td>11</td>\n",
       "      <td>Tag8</td>\n",
       "      <td>18</td>\n",
       "    </tr>\n",
       "    <tr>\n",
       "      <td>9</td>\n",
       "      <td>Tag2</td>\n",
       "      <td>15</td>\n",
       "    </tr>\n",
       "    <tr>\n",
       "      <td>8</td>\n",
       "      <td>Tag21</td>\n",
       "      <td>15</td>\n",
       "    </tr>\n",
       "    <tr>\n",
       "      <td>6</td>\n",
       "      <td>Tag15</td>\n",
       "      <td>14</td>\n",
       "    </tr>\n",
       "    <tr>\n",
       "      <td>14</td>\n",
       "      <td>Setting1</td>\n",
       "      <td>13</td>\n",
       "    </tr>\n",
       "    <tr>\n",
       "      <td>15</td>\n",
       "      <td>Setting2</td>\n",
       "      <td>13</td>\n",
       "    </tr>\n",
       "    <tr>\n",
       "      <td>7</td>\n",
       "      <td>Tag20</td>\n",
       "      <td>12</td>\n",
       "    </tr>\n",
       "    <tr>\n",
       "      <td>4</td>\n",
       "      <td>Tag7</td>\n",
       "      <td>12</td>\n",
       "    </tr>\n",
       "    <tr>\n",
       "      <td>10</td>\n",
       "      <td>Tag17</td>\n",
       "      <td>10</td>\n",
       "    </tr>\n",
       "    <tr>\n",
       "      <td>16</td>\n",
       "      <td>Tag6</td>\n",
       "      <td>1</td>\n",
       "    </tr>\n",
       "  </tbody>\n",
       "</table>\n",
       "</div>"
      ],
      "text/plain": [
       "   variables  fscore\n",
       "5      Tag14      49\n",
       "1       Tag9      39\n",
       "0      Tag11      37\n",
       "2       Tag4      27\n",
       "3      Tag12      24\n",
       "13     Tag13      24\n",
       "12      Tag3      22\n",
       "11      Tag8      18\n",
       "9       Tag2      15\n",
       "8      Tag21      15\n",
       "6      Tag15      14\n",
       "14  Setting1      13\n",
       "15  Setting2      13\n",
       "7      Tag20      12\n",
       "4       Tag7      12\n",
       "10     Tag17      10\n",
       "16      Tag6       1"
      ]
     },
     "execution_count": 151,
     "metadata": {},
     "output_type": "execute_result"
    }
   ],
   "source": [
    "pd.DataFrame(list(bst.get_fscore().items()),columns = ['variables','fscore']).sort_values(by='fscore',ascending=False)"
   ]
  },
  {
   "cell_type": "code",
   "execution_count": 153,
   "metadata": {},
   "outputs": [],
   "source": [
    "pd.DataFrame(list(bst.get_fscore().items()),columns = ['variables','fscore']).sort_values(by='fscore',ascending=False).to_csv('feature_importance.csv')"
   ]
  },
  {
   "cell_type": "code",
   "execution_count": 156,
   "metadata": {},
   "outputs": [],
   "source": [
    "ypreds = bst.predict(df_test)"
   ]
  },
  {
   "cell_type": "code",
   "execution_count": 159,
   "metadata": {},
   "outputs": [],
   "source": [
    "pd.DataFrame(ypreds).to_csv('prediction.csv',index=False)"
   ]
  },
  {
   "cell_type": "code",
   "execution_count": null,
   "metadata": {},
   "outputs": [],
   "source": []
  }
 ],
 "metadata": {
  "kernelspec": {
   "display_name": "Python 3",
   "language": "python",
   "name": "python3"
  },
  "language_info": {
   "codemirror_mode": {
    "name": "ipython",
    "version": 3
   },
   "file_extension": ".py",
   "mimetype": "text/x-python",
   "name": "python",
   "nbconvert_exporter": "python",
   "pygments_lexer": "ipython3",
   "version": "3.7.3"
  },
  "varInspector": {
   "cols": {
    "lenName": 16,
    "lenType": 16,
    "lenVar": 40
   },
   "kernels_config": {
    "python": {
     "delete_cmd_postfix": "",
     "delete_cmd_prefix": "del ",
     "library": "var_list.py",
     "varRefreshCmd": "print(var_dic_list())"
    },
    "r": {
     "delete_cmd_postfix": ") ",
     "delete_cmd_prefix": "rm(",
     "library": "var_list.r",
     "varRefreshCmd": "cat(var_dic_list()) "
    }
   },
   "types_to_exclude": [
    "module",
    "function",
    "builtin_function_or_method",
    "instance",
    "_Feature"
   ],
   "window_display": false
  }
 },
 "nbformat": 4,
 "nbformat_minor": 2
}
